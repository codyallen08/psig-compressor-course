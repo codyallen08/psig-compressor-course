{
 "cells": [
  {
   "cell_type": "markdown",
   "id": "020a38ad",
   "metadata": {},
   "source": [
    "## Welcome to the PSIG Short Course on Centrifugal Compressors and Stations\n",
    "\n",
    "- This notebook accompanies the <a href=\"https://psig.org/conference/pipeline-simulation-short-course/\">Pipeline Simulation Short Course</a>\n",
    "\n",
    "- The source code is available at <a href=\"https://github.com/Cody-at-SolarTurbines/PSIG-Compressor-Course\">Cody-at-SolarTurbines</a>"
   ]
  },
  {
   "cell_type": "code",
   "execution_count": null,
   "id": "4fc109ee",
   "metadata": {},
   "outputs": [],
   "source": [
    "# import compressor calculation modules\n",
    "import utils_flow as uf\n",
    "import utils_compressor as uc\n",
    "\n",
    "f = uf.FlowUtils\n",
    "c = uc.CompressorUtils"
   ]
  },
  {
   "cell_type": "markdown",
   "id": "51128572",
   "metadata": {},
   "source": [
    "## Exercise 4\n",
    "\n",
    "---\n",
    "\n",
    "<font size=\"4\">\n",
    "Suppose the mass flow of Methane gas is given as 1x10^7 [lbm/day], with temperature 90 [degF], compressibility factor of 0.9 and pressure 1x10^3 [psia].\n",
    "    \n",
    "<br/>\n",
    "\n",
    "Further suppose a compression process has isentropic exponent given as 1.25, and a pressure ratio of 1.35, with suction temperature 90 degF and compressibility factor of 0.9.\n",
    "    \n",
    "If the driver/driven unit has a mechanical efficiency of 0.98, how much power must the driver supply for this compression process?\n",
    "</font>\n",
    "\n",
    "---"
   ]
  },
  {
   "cell_type": "markdown",
   "id": "a60c0cab",
   "metadata": {},
   "source": [
    "## Solution 4:\n",
    "\n",
    "<br/>\n",
    "\n",
    "Using the equation for consumed power and dividing by train mechanical efficiency:\n",
    "\n",
    "$\\Large\n",
    "\\Omega = c_{units} \\frac{\\dot m H_{isen}}{\\eta_{comp}}\\frac{1}{\\eta_{mech.eff.}} = \\left(\\frac{1}{24\\cdot 60^2 \\cdot 550} \\right) \\frac{10^7 \\cdot 14744}{0.84} \\frac{1}{0.98} \\approx 3770  \\text{ [HP]}\n",
    "$ \n",
    "\n",
    "<br/><br/>\n",
    "\n",
    "###  Below we can walk through the code help and then implement this solution\n",
    "\n",
    "- Note that the conditions are the same as in Exercise 2!"
   ]
  },
  {
   "cell_type": "code",
   "execution_count": null,
   "id": "d34e2491",
   "metadata": {},
   "outputs": [],
   "source": [
    "# setup variables\n",
    "mdot = 1e7       # [lbm/day]      mass flow\n",
    "head = 14744     # [ft*lbf/lbm]   head\n",
    "eta = 0.84       # [1]            isentropic efficiency"
   ]
  },
  {
   "cell_type": "code",
   "execution_count": null,
   "id": "ae288d3c",
   "metadata": {},
   "outputs": [],
   "source": [
    "help(c.calc_comp_consumed_power)"
   ]
  },
  {
   "cell_type": "code",
   "execution_count": null,
   "id": "0e1ae1cb",
   "metadata": {},
   "outputs": [],
   "source": [
    "# calculate required power\n",
    "required_power = c.calc_comp_consumed_power(eta, mdot, head, 0.98)\n",
    "\n",
    "# print solution\n",
    "print('='*50)\n",
    "print('Solution to 4\\n\\n')\n",
    "print('\\tRequired Power' +  f' = {required_power:0.2f} [HP]')\n",
    "print('='*50)"
   ]
  },
  {
   "cell_type": "markdown",
   "id": "c01dfc4b",
   "metadata": {},
   "source": [
    "<br/><br/>"
   ]
  },
  {
   "cell_type": "markdown",
   "id": "5e12df36",
   "metadata": {},
   "source": [
    "## Solution 4 (Bonus)\n",
    "\n",
    "Why is this Power value less than the value shown in the <a href=\"https://catsolar.my.salesforce-sites.com/GasCompCalculator#st-compressorResults\">Solar Turbines Gas Compressor Calculator</a>, which is 3832 [HP], for the same conditions?\n",
    "\n",
    "<br/>\n",
    "\n",
    "This is because the Solar Turbines Gas Compressor Calculator also calculates the compressibility factor based on the input pressure and temperature.  Our calculation uses an approximation, which leads to a slight difference in Head, and correspondingly, Power.\n",
    "\n",
    "<br/>\n",
    "\n",
    "If we substitute in the higher head value, we find a solution much closer as seen below."
   ]
  },
  {
   "cell_type": "code",
   "execution_count": null,
   "id": "89edf4b8",
   "metadata": {},
   "outputs": [],
   "source": [
    "# calculate required power with updated head\n",
    "head_updated = 14989\n",
    "required_power_updated = c.calc_comp_consumed_power(eta, mdot, head_updated, 0.98)\n",
    "\n",
    "# print solution\n",
    "print('='*50)\n",
    "print('Solution to 4 (Bonus)\\n\\n')\n",
    "print('\\tRequired Power Updated' +  f' = {required_power_updated:0.2f} [HP]')\n",
    "print('='*50)"
   ]
  }
 ],
 "metadata": {
  "kernelspec": {
   "display_name": "Python 3 (ipykernel)",
   "language": "python",
   "name": "python3"
  },
  "language_info": {
   "codemirror_mode": {
    "name": "ipython",
    "version": 3
   },
   "file_extension": ".py",
   "mimetype": "text/x-python",
   "name": "python",
   "nbconvert_exporter": "python",
   "pygments_lexer": "ipython3",
   "version": "3.9.10"
  }
 },
 "nbformat": 4,
 "nbformat_minor": 5
}
