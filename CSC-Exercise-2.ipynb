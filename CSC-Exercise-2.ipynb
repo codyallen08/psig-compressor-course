{
 "cells": [
  {
   "cell_type": "markdown",
   "id": "020a38ad",
   "metadata": {},
   "source": [
    "## Welcome to the PSIG Short Course on Centrifugal Compressors and Stations\n",
    "\n",
    "- This notebook accompanies the <a href=\"https://psig.org/conference/pipeline-simulation-short-course/\">Pipeline Simulation Short Course</a>\n",
    "\n",
    "- The source code is available at <a href=\"https://github.com/Cody-at-SolarTurbines/PSIG-Compressor-Course\">Cody-at-SolarTurbines</a>"
   ]
  },
  {
   "cell_type": "code",
   "execution_count": null,
   "id": "4fc109ee",
   "metadata": {},
   "outputs": [],
   "source": [
    "# import compressor calculation modules\n",
    "import utils_flow as uf\n",
    "import utils_compressor as uc\n",
    "\n",
    "# initialize modules for calculations\n",
    "f = uf.FlowUtils\n",
    "c = uc.CompressorUtils"
   ]
  },
  {
   "cell_type": "markdown",
   "id": "51128572",
   "metadata": {},
   "source": [
    "## Exercise 2\n",
    "\n",
    "---\n",
    "\n",
    "<font size=\"4\">\n",
    "Suppose the mass flow of Methane gas is given as 1x10^7 [lbm/day], with temperature 90 [degF], compressibility factor of 0.9 and pressure 1x10^3 [psia].\n",
    "\n",
    "<br/>\n",
    "    \n",
    "What is:\n",
    "    \n",
    "1) The flow in SCFD?\n",
    "    \n",
    "2) The flow in ACFM?\n",
    "</font>\n",
    "\n",
    "<font size=\"4\">\n",
    "Further suppose a compression process has isentropic exponent given as 1.25, and a pressure ratio of 1.35, with suction temperature 90 degF and compressibility factor of 0.9.\n",
    "    \n",
    "What is:\n",
    "    \n",
    "3) The Isentropic Head?\n",
    "</font>\n",
    "\n",
    "---"
   ]
  },
  {
   "cell_type": "code",
   "execution_count": null,
   "id": "69c8632d",
   "metadata": {},
   "outputs": [],
   "source": [
    "# add in problem data for (1) and (2)\n",
    "mdot = 1e7       # [lbm/day] mass flow\n",
    "t_gas = 90       # [degF]    gas temperature\n",
    "p_gas = 1e3      # [psia]    gas pressure\n",
    "z = 0.90         # [1]       compressibility factor"
   ]
  },
  {
   "cell_type": "markdown",
   "id": "cb54ca59",
   "metadata": {},
   "source": [
    "## Solution 2.1:\n",
    "\n",
    "<br/>\n",
    "\n",
    "Note that physical units are in <i>absolute</i> units: Rankin for temperature and PSIA for pressure.\n",
    "\n",
    "$\\Large\n",
    "Q_B = \\frac{\\dot m}{\\rho_B} = \\dot m \\frac{\\bar R Z_B T_B}{p_B M_{CH_4}} = \\dot m \\frac{\\bar R T_B}{p_B M_{CH_4}} = (10^7) \\frac{10.73 \\cdot 520}{14.7 \\cdot 16} (10^{-6}) \\approx 237 \\text{ [MMSCFD]}\n",
    "$\n",
    "\n",
    "<br/><br/>\n",
    "\n",
    "###  Below we can walk through the code help and then implement this solution"
   ]
  },
  {
   "cell_type": "code",
   "execution_count": null,
   "id": "0c556a02",
   "metadata": {},
   "outputs": [],
   "source": [
    "help(f.convert_mass_flow_to_qb)"
   ]
  },
  {
   "cell_type": "code",
   "execution_count": null,
   "id": "ffb6b547",
   "metadata": {},
   "outputs": [],
   "source": [
    "# calcluate flow in standard units using modules\n",
    "qb = f.convert_mass_flow_to_qb(mdot)/1e6 # qb now has units [MMSCFD]\n",
    "\n",
    "# print solution\n",
    "print('='*50)\n",
    "print('Solution to (2.1)\\n\\n')\n",
    "print(f'\\tQ_B = {qb:0.2f} [MMSCFD]')\n",
    "print('='*50)"
   ]
  },
  {
   "cell_type": "markdown",
   "id": "2bb8dd06",
   "metadata": {},
   "source": [
    " ---"
   ]
  },
  {
   "cell_type": "markdown",
   "id": "a5341c81",
   "metadata": {},
   "source": [
    "## Solution 2.2:\n",
    "\n",
    "<br/>\n",
    "\n",
    "$\\Large\n",
    "Q_A = \\frac{\\dot m}{\\rho_A} = \\dot m \\frac{\\bar R Z_A T_A}{p_A M_{CH_4}} = (10^7) \\frac{10.73 \\cdot 0.9 \\cdot 550}{10^3 \\cdot 16} \\approx 2300 \\text{ [ACFM]}\n",
    "$"
   ]
  },
  {
   "cell_type": "markdown",
   "id": "3b9a1fa7",
   "metadata": {},
   "source": [
    "<br/><br/>\n",
    "\n",
    "###  Below we can walk through the code help and then implement this solution"
   ]
  },
  {
   "cell_type": "code",
   "execution_count": null,
   "id": "ee0ba4df",
   "metadata": {},
   "outputs": [],
   "source": [
    "help(f.convert_m_to_qa_acfm)"
   ]
  },
  {
   "cell_type": "code",
   "execution_count": null,
   "id": "64a01362",
   "metadata": {},
   "outputs": [],
   "source": [
    "help(f._calc_ksuc)"
   ]
  },
  {
   "cell_type": "code",
   "execution_count": null,
   "id": "ef29f7e8",
   "metadata": {},
   "outputs": [],
   "source": [
    "# convert temperature from degF to degR\n",
    "t_gas_rankin = t_gas + 460\n",
    "\n",
    "# create the constant needed in the convert function below\n",
    "ksuc = f._calc_ksuc(t_gas_rankin, z)\n",
    "\n",
    "# calculate flow in actual units using modules\n",
    "qa = f.convert_m_to_qa_acfm(mdot, ksuc, p_gas)\n",
    "\n",
    "# print solution\n",
    "print('='*50)\n",
    "print('Solution to (2.2)\\n\\n')\n",
    "print(f'\\tQ_A = {qa:0.2f} [ACFM]')\n",
    "print('='*50)"
   ]
  },
  {
   "cell_type": "markdown",
   "id": "44934b81",
   "metadata": {},
   "source": [
    " ---"
   ]
  },
  {
   "cell_type": "markdown",
   "id": "1eb4092b",
   "metadata": {},
   "source": [
    "## Solution 2.3:\n",
    "\n",
    "<br/>\n",
    "\n",
    "We use the <i>Isentropic Head</i> equation with the additional data supplied for problem (3):\n",
    "\n",
    "$\\Large\n",
    "\\begin{align*}\n",
    "H_{isen} &= \\frac{\\tilde R}{M_{CH4}} T_{in} Z_{in} \\frac{\\chi}{\\chi - 1}\\left(\\left(\\frac{p_{out}}{p_{in}}\\right)^{\\frac{\\chi -1}{\\chi}}-1\\right) \\\\[1em]\n",
    "&= \\left(\\frac{1514}{16}\\right) \\cdot 550 \\cdot 0.9 \\cdot \\left(\\frac{1.25}{0.25}\\right)\\left(\\left(1.35\\right)^{\\frac{0.25}{1.25}}-1\\right) \\\\[1em]\n",
    "&\\approx 14744 \\text{ [ft $\\cdot$ lbf/lbm]}\n",
    "\\end{align*}\n",
    "$"
   ]
  },
  {
   "cell_type": "markdown",
   "id": "3e8bf610",
   "metadata": {},
   "source": [
    "<br/><br/>\n",
    "\n",
    "###  Below we can walk through the code help and then implement this solution"
   ]
  },
  {
   "cell_type": "code",
   "execution_count": null,
   "id": "db83136a",
   "metadata": {},
   "outputs": [],
   "source": [
    "help(c.comp_head)"
   ]
  },
  {
   "cell_type": "code",
   "execution_count": null,
   "id": "0e1ae1cb",
   "metadata": {},
   "outputs": [],
   "source": [
    "# setup additional variables\n",
    "k = 1.25                     # [1] isentropic exponent = ratio of specific heats\n",
    "sg = 16.04/28.97             # [1] specific gravity\n",
    "\n",
    "# set pressure variables for comp_head() function\n",
    "p_suc = p_gas\n",
    "p_dis = 1.35*p_suc\n",
    "\n",
    "# set ratio\n",
    "mratio = (k-1)/k\n",
    "\n",
    "# calculate isentropic head\n",
    "head = c.comp_head(p_suc, p_dis, z, mratio, t_gas_rankin)\n",
    "\n",
    "# print solution\n",
    "print('='*75)\n",
    "print('Solution to (2.3)\\n\\n')\n",
    "print(f'\\tHead = {head:0.2f} [ft*lbf/lbm] \\n\\n')\n",
    "print('Additional Data:')\n",
    "print('-'*75)\n",
    "print(f'\\t{sg:0.5f} = Specific Gravity of Methane [CH4]\\n')\n",
    "print(f'\\t{p_dis}  = Discharge Pressure [PSIA] for given pressure ratio')\n",
    "print('='*75)"
   ]
  }
 ],
 "metadata": {
  "kernelspec": {
   "display_name": "Python 3 (ipykernel)",
   "language": "python",
   "name": "python3"
  },
  "language_info": {
   "codemirror_mode": {
    "name": "ipython",
    "version": 3
   },
   "file_extension": ".py",
   "mimetype": "text/x-python",
   "name": "python",
   "nbconvert_exporter": "python",
   "pygments_lexer": "ipython3",
   "version": "3.9.10"
  }
 },
 "nbformat": 4,
 "nbformat_minor": 5
}
